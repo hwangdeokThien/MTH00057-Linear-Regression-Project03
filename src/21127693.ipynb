{
 "cells": [
  {
   "cell_type": "markdown",
   "metadata": {},
   "source": [
    "# <center>Đồ án 3: Linear Regression</center>"
   ]
  },
  {
   "cell_type": "markdown",
   "metadata": {},
   "source": [
    "# Thông tin sinh viên\n",
    "\n",
    "- Họ và tên: Huỳnh Đức Thiện\n",
    "- MSSV: 21127693\n",
    "- Lớp: 21CLC07"
   ]
  },
  {
   "cell_type": "markdown",
   "metadata": {},
   "source": [
    "# Import"
   ]
  },
  {
   "cell_type": "code",
   "execution_count": null,
   "metadata": {},
   "outputs": [],
   "source": [
    "import numpy as np\n",
    "import pandas as pd\n",
    "import seaborn as sns\n",
    "import matplotlib.pyplot as plt\n",
    "from sklearn.linear_model import LinearRegression\n",
    "from sklearn.metrics import mean_absolute_error\n",
    "from sklearn.model_selection import cross_val_score"
   ]
  },
  {
   "cell_type": "markdown",
   "metadata": {},
   "source": [
    "# Đọc dữ liệu"
   ]
  },
  {
   "cell_type": "code",
   "execution_count": null,
   "metadata": {},
   "outputs": [],
   "source": [
    "# Đọc dữ liệu bằng pandas\n",
    "train = pd.read_csv('train.csv')\n",
    "test = pd.read_csv('test.csv')\n",
    "\n",
    "# Lấy các đặc trưng X và giá trị mục tiêu y cho các tập huấn luyện (train) và kiểm tra (test)\n",
    "X_train = train.iloc[:, :-1]    # Dataframe (chứa các đặc trưng huấn luyện)\n",
    "y_train = train.iloc[:, -1]     # Series    (chứa 1 giá trị mục tiêu huấn luyện)\n",
    "\n",
    "X_test = test.iloc[:, :-1]      # Dataframe (chứa các đặc trưng kiểm tra)\n",
    "y_test = test.iloc[:, -1]       # Series    (chứa 1 giá trị mục tiêu kiểm tra)\n",
    "\n",
    "# Sinh viên có thể sử dụng các khác nếu cần"
   ]
  },
  {
   "cell_type": "markdown",
   "metadata": {},
   "source": [
    "# Xử lý dữ liệu"
   ]
  },
  {
   "cell_type": "code",
   "execution_count": null,
   "metadata": {},
   "outputs": [],
   "source": [
    "# before\n",
    "plt.rcParams['figure.figsize'] = (22, 10)\n",
    "\n",
    "plt.subplot(1, 2, 1)\n",
    "plt.title('Salary Distribution Plot')\n",
    "sns.histplot(train['Salary'])\n",
    "plt.xlabel('Salary')\n",
    "plt.ylabel('Density')\n",
    "\n",
    "plt.subplot(1, 2, 2)\n",
    "plt.title('Salary Spread')\n",
    "sns.boxplot(y=train['Salary'])\n",
    "plt.ylabel('Salary')\n",
    "\n",
    "plt.show()\n",
    "\n",
    "# data processing\n",
    "train = train.dropna()\n",
    "\n",
    "median = train['Salary'].median()\n",
    "mad = np.median(np.abs(train['Salary'] - median))\n",
    "modified_z_scores = 0.6745 * (train['Salary'] - median) / mad\n",
    "\n",
    "threshold = 3.5\n",
    "\n",
    "outliers = train[modified_z_scores.abs() > threshold]\n",
    "\n",
    "train = train[modified_z_scores.abs() <= threshold]\n",
    "\n",
    "# after\n",
    "plt.rcParams['figure.figsize'] = (22, 10)\n",
    "\n",
    "plt.subplot(1, 2, 1)\n",
    "plt.title('Salary Distribution Plot (Outliers Removed)')\n",
    "sns.histplot(train['Salary'])\n",
    "plt.xlabel('Salary')\n",
    "plt.ylabel('Density')\n",
    "\n",
    "plt.subplot(1, 2, 2)\n",
    "plt.title('Salary Spread (Outliers Removed)')\n",
    "sns.boxplot(y=train['Salary'])\n",
    "plt.ylabel('Salary')\n",
    "\n",
    "plt.show()"
   ]
  },
  {
   "cell_type": "markdown",
   "metadata": {},
   "source": [
    "# Cài đặt hàm"
   ]
  },
  {
   "cell_type": "code",
   "execution_count": null,
   "metadata": {},
   "outputs": [],
   "source": [
    "# Cài đặt các hàm cần thiết ở đây"
   ]
  },
  {
   "cell_type": "markdown",
   "metadata": {},
   "source": [
    "# Yêu cầu 1a: Sử dụng toàn bộ 11 đặc trưng đầu tiên `Gender`, `10percentage`, `12percentage`, `CollegeTier`, `Degree`, `collegeGPA`, `CollegeCityTier`, `English`, `Logical`, `Quant`, `Domain` (2 điểm) "
   ]
  },
  {
   "cell_type": "code",
   "execution_count": null,
   "metadata": {},
   "outputs": [],
   "source": [
    "# Phần code cho yêu cầu 1a\n",
    "\n",
    "selected_features = ['Gender', '10percentage', '12percentage', 'CollegeTier', 'Degree', 'collegeGPA', 'CollegeCityTier', 'English', 'Logical', 'Quant', 'Domain']\n",
    "\n",
    "X_train_1a = train[selected_features]\n",
    "y_train_1a = train['Salary']\n",
    "\n",
    "X_test_1a = test[selected_features]\n",
    "y_test_1a = test['Salary']\n",
    "\n",
    "model = LinearRegression()\n",
    "model.fit(X_train_1a, y_train_1a)\n",
    "\n",
    "intercept = model.intercept_\n",
    "coefficients = model.coef_\n",
    "\n",
    "formula = f\"Salary = {intercept:.3f}\"\n",
    "\n",
    "for feature, coefficient in zip(selected_features, coefficients):\n",
    "    formula += f\" + {coefficient:.3f} * {feature}\"\n",
    "\n",
    "print(\"Regression model formula:\\n\")\n",
    "print(formula)"
   ]
  },
  {
   "cell_type": "code",
   "execution_count": null,
   "metadata": {},
   "outputs": [],
   "source": [
    "# Gọi hàm MAE (tự cài đặt hoặc từ thư viện) trên tập kiểm tra\n",
    "\n",
    "y_test_pred = model.predict(X_test_1a)\n",
    "\n",
    "mae = mean_absolute_error(y_test_1a, y_test_pred)\n",
    "print(\"Mean Absolute Error (MAE):\", mae)"
   ]
  },
  {
   "cell_type": "markdown",
   "metadata": {},
   "source": [
    "Công thức hồi quy (phần trọng số làm tròn đến 3 chữ số thập phân, ví dụ 0.012345 $\\to$ 0.012)\n",
    "\n",
    "$$\\text{Salary} = ...$$"
   ]
  },
  {
   "cell_type": "markdown",
   "metadata": {},
   "source": [
    "# Yêu cầu 1b: Xây dựng mô hình sử dụng duy nhất 1 đặc trưng tính cách với các đặc trưng tính cách gồm `conscientiousness`, `agreeableness`, `extraversion`, `nueroticism`, `openess_to_experience`, tìm mô hình cho kết quả tốt nhất (1 điểm)"
   ]
  },
  {
   "cell_type": "markdown",
   "metadata": {},
   "source": [
    "Lưu ý: khi sử dụng cross-validation, sinh viên cần xáo trộn dữ liệu 1 lần duy nhất và thực hiện trên toàn bộ đặc trưng"
   ]
  },
  {
   "cell_type": "code",
   "execution_count": null,
   "metadata": {
    "scrolled": false
   },
   "outputs": [],
   "source": [
    "# Phần code cho yêu cầu 1b\n",
    "# Tìm ra đặc trưng tốt nhất\n",
    "# In ra các kết quả cross-validation như yêu cầu\n",
    "best_feature = None\n",
    "best_mae = None\n",
    "\n",
    "train_shuffled = train.sample(frac=1, random_state=42)\n",
    "\n",
    "selected_features = ['conscientiousness', 'agreeableness', 'extraversion', 'nueroticism', 'openess_to_experience']\n",
    "\n",
    "for ft in selected_features:\n",
    "    X_train_1b = train_shuffled[[ft]]\n",
    "    y_train_1b = train_shuffled['Salary']\n",
    "    \n",
    "    model = LinearRegression()\n",
    "    \n",
    "    mae_scores = -cross_val_score(model, X_train_1b, y_train_1b, scoring='neg_mean_absolute_error', cv=5)\n",
    "    cur_mae = mae_scores.mean()\n",
    "    \n",
    "    if best_mae is None or cur_mae < best_mae:\n",
    "        best_feature = ft\n",
    "        best_mae = cur_mae\n",
    "    \n",
    "    print(f\"MAE for feature '{ft}': {cur_mae}\")\n",
    "\n",
    "print(f\"\\nBest Feature: {best_feature}\")\n",
    "print(f\"MAE for Best Feature: {best_mae}\")"
   ]
  },
  {
   "cell_type": "code",
   "execution_count": null,
   "metadata": {},
   "outputs": [],
   "source": [
    "# Huấn luyện lại mô hình best_personality_feature_model với đặc trưng tốt nhất trên toàn bộ tập huấn luyện\n",
    "\n",
    "X_train_best = train[[best_feature]]\n",
    "y_train_best = train['Salary']\n",
    "\n",
    "best_personality_feature_model = LinearRegression()\n",
    "best_personality_feature_model.fit(X_train_best, y_train_best)\n",
    "\n",
    "intercept_best = best_personality_feature_model.intercept_\n",
    "coefficient_best = best_personality_feature_model.coef_[0]\n",
    "\n",
    "formula_best = f\"Salary = {intercept_best:.3f} + {coefficient_best:.3f} * {best_feature}\"\n",
    "print(\"\\nRegression model formula for the best feature:\\n\")\n",
    "print(formula_best)"
   ]
  },
  {
   "cell_type": "code",
   "execution_count": null,
   "metadata": {},
   "outputs": [],
   "source": [
    "# Gọi hàm MAE (tự cài đặt hoặc từ thư viện) trên tập kiểm tra với mô hình best_personality_feature_model\n",
    "X_test_best = test[[best_feature]]\n",
    "y_test_pred_best = best_personality_feature_model.predict(X_test_best)\n",
    "mae_best = mean_absolute_error(y_test, y_test_pred_best)\n",
    "print(\"\\nMean Absolute Error (MAE) for the best feature:\", mae_best)"
   ]
  },
  {
   "cell_type": "markdown",
   "metadata": {},
   "source": [
    "Công thức hồi quy (phần trọng số làm tròn đến 3 chữ số thập phân, ví dụ 0.012345 $\\to$ 0.012)\n",
    "\n",
    "$$\\text{Salary} = ...$$"
   ]
  },
  {
   "cell_type": "markdown",
   "metadata": {},
   "source": [
    "# Yêu cầu 1c: Xây dựng mô hình sử dụng duy nhất 1 đặc trưng `English`, `Logical`, `Quant`, tìm mô hình cho kết quả tốt nhất (1 điểm)"
   ]
  },
  {
   "cell_type": "markdown",
   "metadata": {},
   "source": [
    "Lưu ý: khi sử dụng cross-validation, sinh viên cần xáo trộn dữ liệu 1 lần duy nhất và thực hiện trên toàn bộ đặc trưng"
   ]
  },
  {
   "cell_type": "code",
   "execution_count": null,
   "metadata": {},
   "outputs": [],
   "source": [
    "# Phần code cho yêu cầu 1c\n",
    "# Tìm ra đặc trưng tốt nhất\n",
    "# In ra các kết quả cross-validation như yêu cầu\n",
    "\n",
    "selected_features = ['English', 'Logical', 'Quant']\n",
    "\n",
    "for ft in selected_features:\n",
    "    X_train_1c = train_shuffled[[ft]]\n",
    "    y_train_1c = train_shuffled['Salary']\n",
    "    \n",
    "    model = LinearRegression()\n",
    "    \n",
    "    mae_scores = -cross_val_score(model, X_train_1c, y_train_1c, scoring='neg_mean_absolute_error', cv=5)\n",
    "    cur_mae = mae_scores.mean()\n",
    "    \n",
    "    if best_mae is None or cur_mae < best_mae:\n",
    "        best_feature = ft\n",
    "        best_mae = cur_mae\n",
    "    \n",
    "    print(f\"MAE for feature '{ft}': {cur_mae}\")\n",
    "\n",
    "print(f\"\\nBest Feature: {best_feature}\")\n",
    "print(f\"MAE for Best Feature: {best_mae}\")"
   ]
  },
  {
   "cell_type": "code",
   "execution_count": null,
   "metadata": {},
   "outputs": [],
   "source": [
    "# Huấn luyện lại mô hình best_skill_feature_model với đặc trưng tốt nhất trên toàn bộ tập huấn luyện\n",
    "\n",
    "X_train_best = train[[best_feature]]\n",
    "y_train_best = train['Salary']\n",
    "\n",
    "best_skill_feature_model = LinearRegression()\n",
    "best_skill_feature_model.fit(X_train_best, y_train_best)\n",
    "\n",
    "intercept_best = best_skill_feature_model.intercept_\n",
    "coefficient_best = best_skill_feature_model.coef_[0]\n",
    "\n",
    "formula_best = f\"Salary = {intercept_best:.3f} + {coefficient_best:.3f} * {best_feature}\"\n",
    "print(\"\\nRegression model formula for the best feature:\\n\")\n",
    "print(formula_best)"
   ]
  },
  {
   "cell_type": "code",
   "execution_count": null,
   "metadata": {},
   "outputs": [],
   "source": [
    "# Gọi hàm MAE (tự cài đặt hoặc từ thư viện) trên tập kiểm tra với mô hình best_skill_feature_model\n",
    "X_test_best = test[[best_feature]]\n",
    "y_test_pred_best = best_skill_feature_model.predict(X_test_best)\n",
    "mae_best = mean_absolute_error(y_test, y_test_pred_best)\n",
    "print(\"\\nMean Absolute Error (MAE) for the best feature:\", mae_best)"
   ]
  },
  {
   "cell_type": "markdown",
   "metadata": {},
   "source": [
    "Công thức hồi quy (phần trọng số làm tròn đến 3 chữ số thập phân, ví dụ 0.012345 $\\to$ 0.012)\n",
    "\n",
    "$$\\text{Salary} = ...$$"
   ]
  },
  {
   "cell_type": "markdown",
   "metadata": {},
   "source": [
    "# Yêu cầu 1d: Sinh viên tự xây dựng mô hình, tìm mô hình cho kết quả tốt nhất (3 điểm)"
   ]
  },
  {
   "cell_type": "markdown",
   "metadata": {},
   "source": [
    "Lưu ý: khi sử dụng cross-validation, sinh viên cần xáo trộn dữ liệu 1 lần duy nhất và thực hiện trên toàn bộ $m$ mô hình mà sinh viên thiết kế"
   ]
  },
  {
   "cell_type": "markdown",
   "metadata": {},
   "source": [
    "## Tìm mô hình"
   ]
  },
  {
   "cell_type": "code",
   "execution_count": null,
   "metadata": {
    "scrolled": false
   },
   "outputs": [],
   "source": [
    "# Trình bày các phần tìm ra mô hình"
   ]
  },
  {
   "cell_type": "markdown",
   "metadata": {},
   "source": [
    "## Thử nghiệm, so sánh các mô hình"
   ]
  },
  {
   "cell_type": "code",
   "execution_count": null,
   "metadata": {},
   "outputs": [],
   "source": [
    "# Phần code cho yêu cầu 1d\n",
    "# Tìm ra mô hình tốt nhất (tự thiết kế bởi sinh viên)\n",
    "# In ra các kết quả cross-validation như yêu cầu"
   ]
  },
  {
   "cell_type": "code",
   "execution_count": null,
   "metadata": {},
   "outputs": [],
   "source": [
    "# Option 1 - Find the top 10 features to use for training the model.\n",
    "all_features = ['Gender', '10percentage', '12percentage', 'CollegeTier', 'Degree', 'collegeGPA', 'CollegeCityTier', 'English', 'Logical', 'Quant', 'Domain', 'ComputerProgramming', 'ElectronicsAndSemicon', 'ComputerScience', 'MechanicalEngg', 'ElectricalEngg', 'TelecomEngg', 'CivilEngg', 'conscientiousness', 'agreeableness', 'extraversion', 'nueroticism', 'openess_to_experience']\n",
    "mae_features = []\n",
    "\n",
    "for feature in all_features:\n",
    "    X_train = train[[feature]]\n",
    "    y_train = train['Salary']\n",
    "\n",
    "    model = LinearRegression()\n",
    "    mae_scores = -cross_val_score(model, X_train, y_train, scoring='neg_mean_absolute_error', cv=5)\n",
    "    mae = mae_scores.mean()\n",
    "\n",
    "    mae_features.append((feature, mae))\n",
    "\n",
    "mae_features.sort(key=lambda x: x[1])\n",
    "top_features = [feature for feature, _ in mae_features[:10]]\n",
    "\n",
    "print(\"Top 10 Features:\")\n",
    "for feature, mae in mae_features[:10]:\n",
    "    print(f\"{feature} -- {mae}\")\n",
    "\n",
    "X_train = train[top_features]\n",
    "y_train = train['Salary']\n",
    "model = LinearRegression()\n",
    "model.fit(X_train, y_train)\n",
    "\n",
    "y_pred = model.predict(X_train)\n",
    "mae = mean_absolute_error(y_train, y_pred)\n",
    "print(f'\\nMAE for dataframe with top 10 features: {mae}')"
   ]
  },
  {
   "cell_type": "code",
   "execution_count": null,
   "metadata": {
    "scrolled": true
   },
   "outputs": [],
   "source": [
    "# Option 2 - Through data visualization, identify features that exhibit a tendency to correlate with the target value.\n",
    "for feature in all_features:\n",
    "    plt.scatter(train[feature], train['Salary'])\n",
    "    plt.xlabel(feature)\n",
    "    plt.ylabel('Salary')\n",
    "    plt.title(f'Scatter plot of {feature} vs Salary')\n",
    "    plt.show()"
   ]
  },
  {
   "cell_type": "code",
   "execution_count": null,
   "metadata": {},
   "outputs": [],
   "source": [
    "selected_features = ['10percentage', '12percentage', 'collegeGPA', 'English', 'Logical', 'Quant', 'conscientiousness', 'agreeableness', 'extraversion', 'nueroticism', 'openess_to_experience']\n",
    "\n",
    "X_train = train_shuffled[selected_features]\n",
    "y_train = train_shuffled['Salary']\n",
    "\n",
    "model = LinearRegression()\n",
    "model.fit(X_train, y_train)\n",
    "\n",
    "mae_scores = -cross_val_score(model, X_train, y_train, scoring='neg_mean_absolute_error', cv=5)\n",
    "cur_mae = mae_scores.mean()\n",
    "\n",
    "print(f\"MAE for dataframe with visualized-selected features: {cur_mae}\")"
   ]
  },
  {
   "cell_type": "code",
   "execution_count": null,
   "metadata": {
    "scrolled": false
   },
   "outputs": [],
   "source": [
    "# Option 3 - Implement additional new features derived from existing features.\n",
    "modified_train = train.copy()\n",
    "\n",
    "modified_train['engineering_skills'] = modified_train[['ComputerProgramming', 'ElectronicsAndSemicon', 'ComputerScience', 'MechanicalEngg', 'ElectricalEngg', 'TelecomEngg', 'CivilEngg']].mean(axis=1)\n",
    "modified_train['collegeGPA_squared'] = modified_train['collegeGPA'] ** 2\n",
    "modified_train['collegeGPA_cube'] = modified_train['collegeGPA'] ** 3\n",
    "modified_train['interaction_percentage'] = modified_train['10percentage'] * modified_train['12percentage']\n",
    "modified_train['10percentage_bins'] = pd.cut(modified_train['10percentage'], bins=[0, 50, 75, 100], labels=['low', 'medium', 'high'])\n",
    "modified_train['12percentage_bins'] = pd.cut(modified_train['12percentage'], bins=[0, 50, 75, 100], labels=['low', 'medium', 'high'])\n",
    "\n",
    "X_train = modified_train.drop('Salary', axis=1)\n",
    "y_train = modified_train['Salary']\n",
    "\n",
    "model = LinearRegression()\n",
    "\n",
    "X_train_encoded = pd.get_dummies(X_train, columns=['10percentage_bins', '12percentage_bins'])\n",
    "mae_scores = -cross_val_score(model, X_train_encoded, y_train, scoring='neg_mean_absolute_error', cv=5)\n",
    "cur_mae = mae_scores.mean()\n",
    "\n",
    "print(f\"MAE for dataframe with additional features: {cur_mae}\")\n"
   ]
  },
  {
   "cell_type": "code",
   "execution_count": null,
   "metadata": {},
   "outputs": [],
   "source": [
    "# Huấn luyện lại mô hình my_best_model trên toàn bộ tập huấn luyện\n",
    "\n",
    "my_best_model = LinearRegression()\n",
    "my_best_model.fit(X_train_encoded, y_train)\n",
    "\n",
    "selected_features = list(X_train_encoded.columns)  \n",
    "intercept = my_best_model.intercept_\n",
    "coefficients = my_best_model.coef_\n",
    "\n",
    "formula = f\"Salary = {intercept:.3f}\"\n",
    "\n",
    "for feature, coefficient in zip(selected_features, coefficients):\n",
    "    formula += f\" + {coefficient:.3f} * {feature}\"\n",
    "\n",
    "print(\"Regression model formula:\\n\")\n",
    "print(formula)"
   ]
  },
  {
   "cell_type": "code",
   "execution_count": null,
   "metadata": {},
   "outputs": [],
   "source": [
    "# Gọi hàm MAE (tự cài đặt hoặc từ thư viện) trên tập kiểm tra với mô hình my_best_model\n",
    "modified_test = test.copy()\n",
    "\n",
    "modified_test['engineering_skills'] = modified_test[['ComputerProgramming', 'ElectronicsAndSemicon', 'ComputerScience', 'MechanicalEngg', 'ElectricalEngg', 'TelecomEngg', 'CivilEngg']].mean(axis=1)\n",
    "modified_test['collegeGPA_squared'] = modified_test['collegeGPA'] ** 2\n",
    "modified_test['collegeGPA_cube'] = modified_test['collegeGPA'] ** 3\n",
    "modified_test['interaction_percentage'] = modified_test['10percentage'] * modified_test['12percentage']\n",
    "modified_test['10percentage_bins'] = pd.cut(modified_test['10percentage'], bins=[0, 50, 75, 100], labels=['low', 'medium', 'high'])\n",
    "modified_test['12percentage_bins'] = pd.cut(modified_test['12percentage'], bins=[0, 50, 75, 100], labels=['low', 'medium', 'high'])\n",
    "\n",
    "X_test = modified_test.drop('Salary', axis=1)\n",
    "X_test_encoded = pd.get_dummies(X_test, columns=['10percentage_bins', '12percentage_bins'])\n",
    "\n",
    "y_test_pred = my_best_model.predict(X_test_encoded)\n",
    "mae = mean_absolute_error(y_test, y_test_pred)\n",
    "print(\"\\nMean Absolute Error (MAE) for the test dataset with my_best_model:\", mae)"
   ]
  },
  {
   "cell_type": "markdown",
   "metadata": {},
   "source": [
    "Công thức hồi quy (phần trọng số làm tròn đến 3 chữ số thập phân, ví dụ 0.012345 $\\to$ 0.012)\n",
    "\n",
    "$$\\text{Salary} = ...$$"
   ]
  }
 ],
 "metadata": {
  "kernelspec": {
   "display_name": "Python 3 (ipykernel)",
   "language": "python",
   "name": "python3"
  },
  "language_info": {
   "codemirror_mode": {
    "name": "ipython",
    "version": 3
   },
   "file_extension": ".py",
   "mimetype": "text/x-python",
   "name": "python",
   "nbconvert_exporter": "python",
   "pygments_lexer": "ipython3",
   "version": "3.10.9"
  },
  "vscode": {
   "interpreter": {
    "hash": "15af99fd1a1a3f0a3416ea421564e792a8676a13670c2eed127d89ab0518a27b"
   }
  }
 },
 "nbformat": 4,
 "nbformat_minor": 2
}
